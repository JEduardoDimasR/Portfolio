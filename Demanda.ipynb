{
  "nbformat": 4,
  "nbformat_minor": 0,
  "metadata": {
    "colab": {
      "provenance": [],
      "authorship_tag": "ABX9TyNbuOlVGFif6ElUvmBmNIG1",
      "include_colab_link": true
    },
    "kernelspec": {
      "name": "python3",
      "display_name": "Python 3"
    },
    "language_info": {
      "name": "python"
    }
  },
  "cells": [
    {
      "cell_type": "markdown",
      "metadata": {
        "id": "view-in-github",
        "colab_type": "text"
      },
      "source": [
        "<a href=\"https://colab.research.google.com/github/JEduardoDimasR/Proyecto-personal/blob/main/Demanda.ipynb\" target=\"_parent\"><img src=\"https://colab.research.google.com/assets/colab-badge.svg\" alt=\"Open In Colab\"/></a>"
      ]
    },
    {
      "cell_type": "markdown",
      "source": [
        "## Cargar librerías"
      ],
      "metadata": {
        "id": "NBAwoywOg5Yu"
      }
    },
    {
      "cell_type": "code",
      "source": [
        "import pandas as pd\n",
        "import numpy as np\n",
        "import matplotlib.pyplot as plt\n",
        "from statsmodels.tsa.arima_model import ARIMA\n",
        "from statsmodels.tsa.stattools import adfuller\n",
        "from statsmodels.tsa.seasonal import seasonal_decompose\n",
        "from sklearn.metrics import mean_squared_error, mean_absolute_percentage_error\n",
        "from sklearn.preprocessing import StandardScaler\n",
        "from keras.models import Sequential\n",
        "from keras.layers import GRU, Dense"
      ],
      "metadata": {
        "id": "wFJ2fZ0HffOw"
      },
      "execution_count": 1,
      "outputs": []
    },
    {
      "cell_type": "markdown",
      "source": [
        "## Cargar datos"
      ],
      "metadata": {
        "id": "dFE0qqrvh1jd"
      }
    },
    {
      "cell_type": "code",
      "execution_count": 2,
      "metadata": {
        "id": "W5ZPFrwOfSF4"
      },
      "outputs": [],
      "source": [
        "store_df = pd.read_excel(\"store.xls\")"
      ]
    },
    {
      "cell_type": "markdown",
      "source": [
        "## Comprender la información de los datos"
      ],
      "metadata": {
        "id": "MSKBJz7oi9bh"
      }
    },
    {
      "cell_type": "code",
      "source": [],
      "metadata": {
        "id": "I-exEHbWjAAM"
      },
      "execution_count": null,
      "outputs": []
    }
  ]
}